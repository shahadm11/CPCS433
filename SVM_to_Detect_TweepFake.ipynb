{
  "cells": [
    {
      "cell_type": "markdown",
      "metadata": {
        "id": "view-in-github",
        "colab_type": "text"
      },
      "source": [
        "<a href=\"https://colab.research.google.com/github/shahadm11/CPCS433/blob/main/SVM_to_Detect_TweepFake.ipynb\" target=\"_parent\"><img src=\"https://colab.research.google.com/assets/colab-badge.svg\" alt=\"Open In Colab\"/></a>"
      ]
    },
    {
      "cell_type": "code",
      "execution_count": null,
      "metadata": {
        "id": "8-QCbo0-kHaI"
      },
      "outputs": [],
      "source": [
        "import pandas as pd\n",
        "import re\n",
        "import torch\n",
        "from transformers import BertTokenizer, BertForSequenceClassification\n",
        "from transformers import Trainer, TrainingArguments\n",
        "from sklearn.model_selection import train_test_split\n",
        "from sklearn.metrics import classification_report\n",
        "from torch.utils.data import Dataset, DataLoader\n",
        "import torch\n",
        "from torch.utils.data import Dataset, DataLoader\n",
        "from transformers import RobertaTokenizer, RobertaForSequenceClassification, AdamW\n",
        "from sklearn.metrics import accuracy_score, precision_recall_fscore_support\n",
        "\n"
      ]
    },
    {
      "cell_type": "code",
      "execution_count": null,
      "metadata": {
        "colab": {
          "base_uri": "https://localhost:8080/"
        },
        "id": "H_FG34k2qZIU",
        "outputId": "12d2c584-2ca2-4e71-a8be-3251dea8932b"
      },
      "outputs": [
        {
          "output_type": "stream",
          "name": "stdout",
          "text": [
            "--2024-05-22 08:12:49--  https://raw.githubusercontent.com/tizfa/tweepfake_deepfake_text_detection/master/data/splits/train.csv\n",
            "Resolving raw.githubusercontent.com (raw.githubusercontent.com)... 185.199.108.133, 185.199.109.133, 185.199.110.133, ...\n",
            "Connecting to raw.githubusercontent.com (raw.githubusercontent.com)|185.199.108.133|:443... connected.\n",
            "HTTP request sent, awaiting response... 200 OK\n",
            "Length: 2804689 (2.7M) [text/plain]\n",
            "Saving to: ‘train.csv’\n",
            "\n",
            "train.csv           100%[===================>]   2.67M  --.-KB/s    in 0.05s   \n",
            "\n",
            "2024-05-22 08:12:50 (52.5 MB/s) - ‘train.csv’ saved [2804689/2804689]\n",
            "\n",
            "--2024-05-22 08:12:50--  https://raw.githubusercontent.com/tizfa/tweepfake_deepfake_text_detection/master/data/splits/validation.csv\n",
            "Resolving raw.githubusercontent.com (raw.githubusercontent.com)... 185.199.108.133, 185.199.109.133, 185.199.110.133, ...\n",
            "Connecting to raw.githubusercontent.com (raw.githubusercontent.com)|185.199.108.133|:443... connected.\n",
            "HTTP request sent, awaiting response... 200 OK\n",
            "Length: 312511 (305K) [text/plain]\n",
            "Saving to: ‘validation.csv’\n",
            "\n",
            "validation.csv      100%[===================>] 305.19K  --.-KB/s    in 0.03s   \n",
            "\n",
            "2024-05-22 08:12:50 (10.0 MB/s) - ‘validation.csv’ saved [312511/312511]\n",
            "\n",
            "--2024-05-22 08:12:50--  https://raw.githubusercontent.com/tizfa/tweepfake_deepfake_text_detection/master/data/splits/test.csv\n",
            "Resolving raw.githubusercontent.com (raw.githubusercontent.com)... 185.199.108.133, 185.199.111.133, 185.199.110.133, ...\n",
            "Connecting to raw.githubusercontent.com (raw.githubusercontent.com)|185.199.108.133|:443... connected.\n",
            "HTTP request sent, awaiting response... 200 OK\n",
            "Length: 341981 (334K) [text/plain]\n",
            "Saving to: ‘test.csv’\n",
            "\n",
            "test.csv            100%[===================>] 333.97K  --.-KB/s    in 0.03s   \n",
            "\n",
            "2024-05-22 08:12:50 (10.8 MB/s) - ‘test.csv’ saved [341981/341981]\n",
            "\n"
          ]
        }
      ],
      "source": [
        "!wget https://raw.githubusercontent.com/tizfa/tweepfake_deepfake_text_detection/master/data/splits/train.csv -O train.csv\n",
        "!wget https://raw.githubusercontent.com/tizfa/tweepfake_deepfake_text_detection/master/data/splits/validation.csv -O validation.csv\n",
        "!wget https://raw.githubusercontent.com/tizfa/tweepfake_deepfake_text_detection/master/data/splits/test.csv -O test.csv"
      ]
    },
    {
      "cell_type": "code",
      "execution_count": null,
      "metadata": {
        "colab": {
          "base_uri": "https://localhost:8080/"
        },
        "id": "fP1-kjvGqh0e",
        "outputId": "975c7eac-898f-4aab-8047-6e6cf5700674"
      },
      "outputs": [
        {
          "output_type": "stream",
          "name": "stdout",
          "text": [
            "      screen_name                                               text  \\\n",
            "0      imranyebot                             YEA now that note GOOD   \n",
            "1          zawvrk  Listen to This Charming Man by The Smiths  htt...   \n",
            "2        zawarbot  wish i can i would be seeing other hoes on the...   \n",
            "3  ahadsheriffbot  The decade in the significantly easier schedul...   \n",
            "4   kevinhookebot  \"Theim class=\\\"alignnone size-full wp-image-60...   \n",
            "\n",
            "  account.type class_type  \n",
            "0          bot     others  \n",
            "1        human      human  \n",
            "2          bot     others  \n",
            "3          bot     others  \n",
            "4          bot        rnn  \n",
            "      screen_name                                               text  \\\n",
            "0          zawvrk  justin timberlake really one of the goats if y...   \n",
            "1    narendramodi  Thank you @PMBhutan for your gracious prayers ...   \n",
            "2     ahadsheriff  Theory: the number of red lights you will hit ...   \n",
            "3  AINarendraModi  Respects on the Upt of the I good with the peo...   \n",
            "4      kevinhooke  Might give the BASIC #10Liner game contest ano...   \n",
            "\n",
            "  account.type class_type  \n",
            "0        human      human  \n",
            "1        human      human  \n",
            "2        human      human  \n",
            "3          bot        rnn  \n",
            "4        human      human  \n",
            "     screen_name                                               text  \\\n",
            "0    ahadsheriff  TIGHT, TIGHT, TIGHT, YEAH!!! https://t.co/wj3n...   \n",
            "1   narendramodi  India has millennia old relations with Oman. W...   \n",
            "2          jaden                                  Anxious Teenagers   \n",
            "3  JustinTrudeau  Our top priority is keeping Canadians safe. Wi...   \n",
            "4     imranyebot  nah bro You’re taking sis so much I’m just a g...   \n",
            "\n",
            "  account.type class_type  \n",
            "0        human      human  \n",
            "1        human      human  \n",
            "2        human      human  \n",
            "3        human      human  \n",
            "4          bot     others  \n"
          ]
        }
      ],
      "source": [
        "train_df = pd.read_csv('train.csv', delimiter=';')\n",
        "test_df = pd.read_csv('test.csv', delimiter=';')\n",
        "val_df = pd.read_csv('validation.csv', delimiter=';')\n",
        "\n",
        "print(train_df.head())\n",
        "print(test_df.head())\n",
        "print(val_df.head())"
      ]
    },
    {
      "cell_type": "code",
      "execution_count": null,
      "metadata": {
        "id": "QbQXcAwH3jp6"
      },
      "outputs": [],
      "source": [
        "import pandas as pd\n",
        "import re\n",
        "from sklearn.feature_extraction.text import TfidfVectorizer\n",
        "from sklearn.svm import SVC\n",
        "from sklearn.metrics import classification_report, accuracy_score\n",
        "from sklearn.model_selection import GridSearchCV\n",
        "\n",
        "\n",
        "# Drop 'class_type' and 'screen_name' columns\n",
        "train_df = train_df.drop(columns=['class_type', 'screen_name'])\n",
        "test_df = test_df.drop(columns=['class_type', 'screen_name'])\n",
        "val_df = val_df.drop(columns=['class_type', 'screen_name'])\n",
        "\n",
        "# Clean the text\n",
        "def clean_text(text):\n",
        "    text = re.sub(r\"http\\S+\", \"\", text)  # Remove URLs\n",
        "    text = re.sub(r\"@\\w+\", \"\", text)  # Remove mentions\n",
        "    text = re.sub(r\"[^a-zA-Z\\s]\", \"\", text)  # Remove special characters\n",
        "    text = text.lower()  # Convert to lowercase\n",
        "    text = re.sub(r\"\\s+\", \" \", text).strip()  # Remove extra whitespace\n",
        "    return text\n",
        "\n",
        "train_df['cleaned_text'] = train_df['text'].apply(clean_text)\n",
        "val_df['cleaned_text'] = val_df['text'].apply(clean_text)\n",
        "test_df['cleaned_text'] = test_df['text'].apply(clean_text)\n",
        "\n",
        "# Encode labels\n",
        "label_mapping = {'human': 0, 'bot': 1}\n",
        "train_df['label'] = train_df['account.type'].map(label_mapping)\n",
        "val_df['label'] = val_df['account.type'].map(label_mapping)\n",
        "test_df['label'] = test_df['account.type'].map(label_mapping)\n",
        "\n",
        "# Drop the original 'text' and 'account.type' columns\n",
        "train_df = train_df.drop(columns=['account.type', 'text'])\n",
        "val_df = val_df.drop(columns=['account.type', 'text'])\n",
        "test_df = test_df.drop(columns=['account.type', 'text'])\n",
        "\n",
        "# Split the data\n",
        "X_train = train_df['cleaned_text']\n",
        "y_train = train_df['label']\n",
        "X_val = val_df['cleaned_text']\n",
        "y_val = val_df['label']\n",
        "X_test = test_df['cleaned_text']\n",
        "y_test = test_df['label']\n",
        "\n",
        "# Text vectorization\n",
        "vectorizer = TfidfVectorizer(max_features=5000)\n",
        "X_train_tfidf = vectorizer.fit_transform(X_train)\n",
        "X_val_tfidf = vectorizer.transform(X_val)\n",
        "X_test_tfidf = vectorizer.transform(X_test)\n",
        "\n"
      ]
    },
    {
      "cell_type": "code",
      "execution_count": null,
      "metadata": {
        "id": "totniWpX3qyS"
      },
      "outputs": [],
      "source": [
        "# Define parameter grid for Grid Search\n",
        "param_grid = {\n",
        "    'C': [0.1, 1, 10, 100],\n",
        "    'kernel': ['rbf'],\n",
        "    'gamma': ['scale', 'auto']\n",
        "}\n",
        "\n",
        "# Initialize SVM\n",
        "svm = SVC(random_state=42)\n",
        "\n"
      ]
    },
    {
      "cell_type": "code",
      "execution_count": null,
      "metadata": {
        "colab": {
          "base_uri": "https://localhost:8080/"
        },
        "id": "7S2vDMIg47Xk",
        "outputId": "fb5effd7-eafc-4b29-86e7-977815444606"
      },
      "outputs": [
        {
          "output_type": "stream",
          "name": "stdout",
          "text": [
            "Fitting 5 folds for each of 8 candidates, totalling 40 fits\n",
            "[CV] END .....................C=0.1, gamma=scale, kernel=rbf; total time=  58.3s\n",
            "[CV] END .....................C=0.1, gamma=scale, kernel=rbf; total time=  53.3s\n",
            "[CV] END .....................C=0.1, gamma=scale, kernel=rbf; total time=  58.9s\n",
            "[CV] END .....................C=0.1, gamma=scale, kernel=rbf; total time= 1.1min\n",
            "[CV] END .....................C=0.1, gamma=scale, kernel=rbf; total time=  53.4s\n",
            "[CV] END ......................C=0.1, gamma=auto, kernel=rbf; total time=  59.7s\n",
            "[CV] END ......................C=0.1, gamma=auto, kernel=rbf; total time= 1.0min\n",
            "[CV] END ......................C=0.1, gamma=auto, kernel=rbf; total time= 1.2min\n",
            "[CV] END ......................C=0.1, gamma=auto, kernel=rbf; total time= 1.0min\n",
            "[CV] END ......................C=0.1, gamma=auto, kernel=rbf; total time= 1.1min\n",
            "[CV] END .......................C=1, gamma=scale, kernel=rbf; total time= 1.5min\n",
            "[CV] END .......................C=1, gamma=scale, kernel=rbf; total time= 1.5min\n",
            "[CV] END .......................C=1, gamma=scale, kernel=rbf; total time= 1.5min\n",
            "[CV] END .......................C=1, gamma=scale, kernel=rbf; total time= 1.5min\n",
            "[CV] END .......................C=1, gamma=scale, kernel=rbf; total time= 1.5min\n",
            "[CV] END ........................C=1, gamma=auto, kernel=rbf; total time= 1.0min\n",
            "[CV] END ........................C=1, gamma=auto, kernel=rbf; total time= 1.0min\n",
            "[CV] END ........................C=1, gamma=auto, kernel=rbf; total time= 1.0min\n",
            "[CV] END ........................C=1, gamma=auto, kernel=rbf; total time= 1.0min\n",
            "[CV] END ........................C=1, gamma=auto, kernel=rbf; total time= 1.0min\n",
            "[CV] END ......................C=10, gamma=scale, kernel=rbf; total time= 3.0min\n",
            "[CV] END ......................C=10, gamma=scale, kernel=rbf; total time= 2.9min\n",
            "[CV] END ......................C=10, gamma=scale, kernel=rbf; total time= 2.9min\n",
            "[CV] END ......................C=10, gamma=scale, kernel=rbf; total time= 2.9min\n",
            "[CV] END ......................C=10, gamma=scale, kernel=rbf; total time= 3.0min\n",
            "[CV] END .......................C=10, gamma=auto, kernel=rbf; total time= 1.0min\n",
            "[CV] END .......................C=10, gamma=auto, kernel=rbf; total time= 1.0min\n",
            "[CV] END .......................C=10, gamma=auto, kernel=rbf; total time= 1.0min\n",
            "[CV] END .......................C=10, gamma=auto, kernel=rbf; total time= 1.0min\n",
            "[CV] END .......................C=10, gamma=auto, kernel=rbf; total time= 1.0min\n",
            "[CV] END .....................C=100, gamma=scale, kernel=rbf; total time= 3.0min\n",
            "[CV] END .....................C=100, gamma=scale, kernel=rbf; total time= 2.9min\n",
            "[CV] END .....................C=100, gamma=scale, kernel=rbf; total time= 2.9min\n",
            "[CV] END .....................C=100, gamma=scale, kernel=rbf; total time= 2.9min\n",
            "[CV] END .....................C=100, gamma=scale, kernel=rbf; total time= 3.0min\n",
            "[CV] END ......................C=100, gamma=auto, kernel=rbf; total time=  53.3s\n",
            "[CV] END ......................C=100, gamma=auto, kernel=rbf; total time=  53.2s\n",
            "[CV] END ......................C=100, gamma=auto, kernel=rbf; total time=  53.0s\n",
            "[CV] END ......................C=100, gamma=auto, kernel=rbf; total time=  53.3s\n",
            "[CV] END ......................C=100, gamma=auto, kernel=rbf; total time=  53.4s\n",
            "Best Parameters:  {'C': 10, 'gamma': 'scale', 'kernel': 'rbf'}\n",
            "Training Accuracy:  0.9946890691386636\n",
            "Validation Accuracy:  0.6993918331885317\n",
            "Test Accuracy:  0.6958561376075059\n",
            "Classification Report (Validation):\n",
            "               precision    recall  f1-score   support\n",
            "\n",
            "           0       0.69      0.71      0.70      1150\n",
            "           1       0.70      0.69      0.70      1152\n",
            "\n",
            "    accuracy                           0.70      2302\n",
            "   macro avg       0.70      0.70      0.70      2302\n",
            "weighted avg       0.70      0.70      0.70      2302\n",
            "\n",
            "Classification Report (Test):\n",
            "               precision    recall  f1-score   support\n",
            "\n",
            "           0       0.68      0.73      0.70      1278\n",
            "           1       0.71      0.67      0.69      1280\n",
            "\n",
            "    accuracy                           0.70      2558\n",
            "   macro avg       0.70      0.70      0.70      2558\n",
            "weighted avg       0.70      0.70      0.70      2558\n",
            "\n"
          ]
        }
      ],
      "source": [
        "\n",
        "# Initialize Grid Search with n_jobs=1\n",
        "grid_search = GridSearchCV(estimator=svm, param_grid=param_grid, cv=5, n_jobs=1, verbose=2)\n",
        "\n",
        "# Train model using Grid Search\n",
        "grid_search.fit(X_train_tfidf, y_train)\n",
        "\n",
        "# Best parameters\n",
        "print(\"Best Parameters: \", grid_search.best_params_)\n",
        "\n",
        "# Use the best estimator to make predictions\n",
        "best_svm = grid_search.best_estimator_\n",
        "\n",
        "# Predictions\n",
        "y_train_pred = best_svm.predict(X_train_tfidf)\n",
        "y_val_pred = best_svm.predict(X_val_tfidf)\n",
        "y_test_pred = best_svm.predict(X_test_tfidf)\n",
        "\n",
        "# Evaluation\n",
        "print(\"Training Accuracy: \", accuracy_score(y_train, y_train_pred))\n",
        "print(\"Validation Accuracy: \", accuracy_score(y_val, y_val_pred))\n",
        "print(\"Test Accuracy: \", accuracy_score(y_test, y_test_pred))\n",
        "\n",
        "print(\"Classification Report (Validation):\\n\", classification_report(y_val, y_val_pred))\n",
        "print(\"Classification Report (Test):\\n\", classification_report(y_test, y_test_pred))\n"
      ]
    },
    {
      "cell_type": "code",
      "execution_count": null,
      "metadata": {
        "id": "xuUOVe495G4l",
        "colab": {
          "base_uri": "https://localhost:8080/"
        },
        "outputId": "f87c64fd-4f0d-4574-d2a5-693d086b0a5d"
      },
      "outputs": [
        {
          "output_type": "stream",
          "name": "stdout",
          "text": [
            "Training Accuracy:  0.9946890691386636\n",
            "Validation Accuracy:  0.6993918331885317\n",
            "Test Accuracy:  0.6958561376075059\n",
            "Classification Report (Validation):\n",
            "               precision    recall  f1-score   support\n",
            "\n",
            "           0       0.69      0.71      0.70      1150\n",
            "           1       0.70      0.69      0.70      1152\n",
            "\n",
            "    accuracy                           0.70      2302\n",
            "   macro avg       0.70      0.70      0.70      2302\n",
            "weighted avg       0.70      0.70      0.70      2302\n",
            "\n",
            "Classification Report (Test):\n",
            "               precision    recall  f1-score   support\n",
            "\n",
            "           0       0.68      0.73      0.70      1278\n",
            "           1       0.71      0.67      0.69      1280\n",
            "\n",
            "    accuracy                           0.70      2558\n",
            "   macro avg       0.70      0.70      0.70      2558\n",
            "weighted avg       0.70      0.70      0.70      2558\n",
            "\n"
          ]
        }
      ],
      "source": [
        "\n",
        "# Use the best estimator to make predictions\n",
        "best_svm = grid_search.best_estimator_\n",
        "\n",
        "# Predictions\n",
        "y_train_pred = best_svm.predict(X_train_tfidf)\n",
        "y_val_pred = best_svm.predict(X_val_tfidf)\n",
        "y_test_pred = best_svm.predict(X_test_tfidf)\n",
        "\n",
        "# Evaluation\n",
        "print(\"Training Accuracy: \", accuracy_score(y_train, y_train_pred))\n",
        "print(\"Validation Accuracy: \", accuracy_score(y_val, y_val_pred))\n",
        "print(\"Test Accuracy: \", accuracy_score(y_test, y_test_pred))\n",
        "\n",
        "print(\"Classification Report (Validation):\\n\", classification_report(y_val, y_val_pred))\n",
        "print(\"Classification Report (Test):\\n\", classification_report(y_test, y_test_pred))\n",
        "\n"
      ]
    },
    {
      "cell_type": "code",
      "execution_count": null,
      "metadata": {
        "id": "xdfS50r7QO8-"
      },
      "outputs": [],
      "source": []
    },
    {
      "cell_type": "code",
      "source": [
        "import matplotlib.pyplot as plt\n",
        "train_accuracy = accuracy_score(y_train, y_train_pred)\n",
        "test_accuracy = accuracy_score(y_test, y_test_pred)\n",
        "plt.plot(['Train', 'Test'], [train_accuracy, test_accuracy], marker='o')\n",
        "plt.title('SVM Accuracy')\n",
        "plt.xlabel('Dataset')\n",
        "plt.ylabel('Accuracy')\n",
        "plt.ylim([0, 1])\n",
        "plt.grid(True)\n",
        "plt.show()"
      ],
      "metadata": {
        "colab": {
          "base_uri": "https://localhost:8080/",
          "height": 472
        },
        "id": "eX_hquLCXoAm",
        "outputId": "5d23cd74-faac-496c-f33b-ac321f780fd9"
      },
      "execution_count": null,
      "outputs": [
        {
          "output_type": "display_data",
          "data": {
            "text/plain": [
              "<Figure size 640x480 with 1 Axes>"
            ],
            "image/png": "[encoded data removed]"
          },
          "metadata": {}
        }
      ]
    },
    {
      "cell_type": "code",
      "source": [
        "plt.figure(figsize=(8, 6))\n",
        "plt.plot(['Train'], [train_accuracy], marker='o', label='Train Accuracy')\n",
        "plt.plot(['Test'], [test_accuracy], marker='o', label='Test Accuracy')\n",
        "plt.title('SVM Accuracy')\n",
        "plt.xlabel('Dataset')\n",
        "plt.ylabel('Accuracy')\n",
        "plt.ylim([0, 1])\n",
        "plt.legend()\n",
        "plt.grid(True)\n",
        "plt.show()"
      ],
      "metadata": {
        "colab": {
          "base_uri": "https://localhost:8080/",
          "height": 564
        },
        "id": "tgsM-yLoX3hG",
        "outputId": "986d6ae1-a3a6-4fa9-95a8-9675df3725b5"
      },
      "execution_count": null,
      "outputs": [
        {
          "output_type": "display_data",
          "data": {
            "text/plain": [
              "<Figure size 800x600 with 1 Axes>"
            ],
            "image/png": "[encoded data removed]"
          },
          "metadata": {}
        }
      ]
    },
    {
      "cell_type": "code",
      "source": [
        "import pandas as pd\n",
        "# Sample some texts from the test set along with their true and predicted\n",
        "num_samples = 10\n",
        "sample_df = test_df.sample(n=num_samples, random_state=42)\n",
        "sample_df['True Label'] = sample_df['label']\n",
        "sample_df['Predicted Label'] = y_test_pred[sample_df.index]\n",
        "print(\"\\n***Sampled Texts with True and Predicted Labels from Test Set:***\\n\")\n",
        "for index, row in sample_df.iterrows():\n",
        "    print(f\"Text: {row['cleaned_text']}\")\n",
        "    print(f\"True Label: {row['True Label']}\")\n",
        "    print(f\"Predicted Label: {row['Predicted Label']}\")\n",
        "    print()"
      ],
      "metadata": {
        "colab": {
          "base_uri": "https://localhost:8080/"
        },
        "id": "sMWut6i2oHFW",
        "outputId": "0e6ab6c3-db8d-4b97-ad53-1a21a0500c53"
      },
      "execution_count": null,
      "outputs": [
        {
          "output_type": "stream",
          "name": "stdout",
          "text": [
            "\n",
            "***Sampled Texts with True and Predicted Labels from Test Set:***\n",
            "\n",
            "Text: tinkercunker is a fake guy he never sought my permission to put stickers on his cars he never afforded me permission to graze my truck with spraypaint and he loves to fuck his pets\n",
            "True Label: 1\n",
            "Predicted Label: 1\n",
            "\n",
            "Text: the company to rather the docker section to development a bote all my discussize to container batches and they hads a if time radionally good some webase with lvallogin to descript team on the is a\n",
            "True Label: 1\n",
            "Predicted Label: 1\n",
            "\n",
            "Text: no one tries to kill whales for being whales well besides the ones that are obviously trying to be a fuckin fish but whale still doesnt like fish but okay hehe\n",
            "True Label: 1\n",
            "Predicted Label: 1\n",
            "\n",
            "Text: im but with hand\n",
            "True Label: 0\n",
            "Predicted Label: 1\n",
            "\n",
            "Text: beliveve it or not some people would rather play in a ball pit than play in an orchestra pit and thats why society has crapped on it self\n",
            "True Label: 0\n",
            "Predicted Label: 0\n",
            "\n",
            "Text: the changes heres a server and a challen i langod to some of here in pross about vm which many on the project for the setwork in ejb security initially of the app pricess with far the have a pro\n",
            "True Label: 1\n",
            "Predicted Label: 1\n",
            "\n",
            "Text: thats pretty awesome ufd\n",
            "True Label: 0\n",
            "Predicted Label: 0\n",
            "\n",
            "Text: watters p wives\n",
            "True Label: 1\n",
            "Predicted Label: 0\n",
            "\n",
            "Text: yoiutube streamer famous for grandma sucked me off video series apologizes to his subscribers for pooping on the bus\n",
            "True Label: 0\n",
            "Predicted Label: 1\n",
            "\n",
            "Text: the booted docker page on a long around tell node you can atted and step seems of the configuring place there of rnrn something succeptedrn portop playe appat\n",
            "True Label: 1\n",
            "Predicted Label: 1\n",
            "\n"
          ]
        }
      ]
    },
    {
      "cell_type": "code",
      "source": [
        "import pandas as pd\n",
        "\n",
        "# Sample some texts from the test set along with their true and predicted labels\n",
        "num_samples = 10\n",
        "sample_df = test_df.sample(n=num_samples, random_state=42)\n",
        "sample_df['True Label'] = sample_df['label']\n",
        "sample_df['Predicted Label'] = y_test_pred[sample_df.index]\n",
        "\n",
        "print(\"\\n***Sampled Texts with True and Predicted Labels from Test Set:***\\n\")\n",
        "for index, row in sample_df.iterrows():\n",
        "    true_label = \"Human\" if row['True Label'] == 1 else \"Bot\"\n",
        "    predicted_label = \"Human\" if row['Predicted Label'] == 1 else \"Bot\"\n",
        "\n",
        "    print(f\"Text: {row['cleaned_text']}\")\n",
        "    print(f\"True Label: {true_label}\")\n",
        "    print(f\"Predicted Label: {predicted_label}\")\n",
        "    print()\n"
      ],
      "metadata": {
        "colab": {
          "base_uri": "https://localhost:8080/"
        },
        "id": "rkI9R6ZVqMng",
        "outputId": "8b1a156e-01e4-4643-f861-3b10e310cb92"
      },
      "execution_count": null,
      "outputs": [
        {
          "output_type": "stream",
          "name": "stdout",
          "text": [
            "\n",
            "***Sampled Texts with True and Predicted Labels from Test Set:***\n",
            "\n",
            "Text: tinkercunker is a fake guy he never sought my permission to put stickers on his cars he never afforded me permission to graze my truck with spraypaint and he loves to fuck his pets\n",
            "True Label: Human\n",
            "Predicted Label: Human\n",
            "\n",
            "Text: the company to rather the docker section to development a bote all my discussize to container batches and they hads a if time radionally good some webase with lvallogin to descript team on the is a\n",
            "True Label: Human\n",
            "Predicted Label: Human\n",
            "\n",
            "Text: no one tries to kill whales for being whales well besides the ones that are obviously trying to be a fuckin fish but whale still doesnt like fish but okay hehe\n",
            "True Label: Human\n",
            "Predicted Label: Human\n",
            "\n",
            "Text: im but with hand\n",
            "True Label: Bot\n",
            "Predicted Label: Human\n",
            "\n",
            "Text: beliveve it or not some people would rather play in a ball pit than play in an orchestra pit and thats why society has crapped on it self\n",
            "True Label: Bot\n",
            "Predicted Label: Bot\n",
            "\n",
            "Text: the changes heres a server and a challen i langod to some of here in pross about vm which many on the project for the setwork in ejb security initially of the app pricess with far the have a pro\n",
            "True Label: Human\n",
            "Predicted Label: Human\n",
            "\n",
            "Text: thats pretty awesome ufd\n",
            "True Label: Bot\n",
            "Predicted Label: Bot\n",
            "\n",
            "Text: watters p wives\n",
            "True Label: Human\n",
            "Predicted Label: Bot\n",
            "\n",
            "Text: yoiutube streamer famous for grandma sucked me off video series apologizes to his subscribers for pooping on the bus\n",
            "True Label: Bot\n",
            "Predicted Label: Human\n",
            "\n",
            "Text: the booted docker page on a long around tell node you can atted and step seems of the configuring place there of rnrn something succeptedrn portop playe appat\n",
            "True Label: Human\n",
            "Predicted Label: Human\n",
            "\n"
          ]
        }
      ]
    },
    {
      "cell_type": "code",
      "source": [
        "import numpy as np\n",
        "import matplotlib.pyplot as plt\n",
        "from sklearn.decomposition import PCA\n",
        "from sklearn.svm import SVC\n",
        "from sklearn.preprocessing import LabelEncoder\n",
        "\n",
        "# PCA and Visualization\n",
        "# Reduce dimensionality to 2D for visualization\n",
        "pca = PCA(n_components=2)\n",
        "X_train_2d = pca.fit_transform(X_train_tfidf.toarray())\n",
        "X_test_2d = pca.transform(X_test_tfidf.toarray())\n",
        "\n",
        "# Encode the labels to numerical values\n",
        "label_encoder = LabelEncoder()\n",
        "y_train_encoded = label_encoder.fit_transform(y_train)\n",
        "y_test_encoded = label_encoder.transform(y_test)\n",
        "\n",
        "# Train SVM on reduced data\n",
        "svm_2d = SVC(kernel='linear', C=grid_search.best_params_['C'])\n",
        "svm_2d.fit(X_train_2d, y_train_encoded)\n",
        "\n",
        "# Create a mesh to plot the decision boundary\n",
        "h = .02  # Step size in the mesh\n",
        "x_min, x_max = X_train_2d[:, 0].min() - 1, X_train_2d[:, 0].max() + 1\n",
        "y_min, y_max = X_train_2d[:, 1].min() - 1, X_train_2d[:, 1].max() + 1\n",
        "xx, yy = np.meshgrid(np.arange(x_min, x_max, h), np.arange(y_min, y_max, h))\n",
        "\n",
        "# Plot the decision boundary\n",
        "Z = svm_2d.predict(np.c_[xx.ravel(), yy.ravel()])\n",
        "Z = Z.reshape(xx.shape)\n",
        "\n",
        "plt.contourf(xx, yy, Z, cmap=plt.cm.coolwarm, alpha=0.8)\n",
        "\n",
        "# Plot the training points\n",
        "plt.scatter(X_train_2d[:, 0], X_train_2d[:, 1], c=y_train_encoded, cmap=plt.cm.coolwarm, edgecolors='k')\n",
        "plt.xlabel('Principal Component 1')\n",
        "plt.ylabel('Principal Component 2')\n",
        "plt.title('SVM Decision Boundary with PCA-reduced Data')\n",
        "plt.show()"
      ],
      "metadata": {
        "colab": {
          "base_uri": "https://localhost:8080/",
          "height": 472
        },
        "id": "2LA2yG7Ku7w0",
        "outputId": "dfcff3d2-5e27-4586-9bab-2172df804634"
      },
      "execution_count": null,
      "outputs": [
        {
          "output_type": "display_data",
          "data": {
            "text/plain": [
              "<Figure size 640x480 with 1 Axes>"
            ],
            "image/png": "[encoded data removed]"
          },
          "metadata": {}
        }
      ]
    },
    {
      "cell_type": "code",
      "source": [
        "from sklearn.metrics import accuracy_score, classification_report, log_loss\n",
        "# Log loss for test set\n",
        "test_loss = log_loss(y_test, y_test_prob)\n",
        "print(\"Test Log Loss: \", test_loss)"
      ],
      "metadata": {
        "colab": {
          "base_uri": "https://localhost:8080/"
        },
        "id": "jeqIk9zvmZw9",
        "outputId": "090b1cec-95bc-4ee0-b484-dbf1527c441e"
      },
      "execution_count": null,
      "outputs": [
        {
          "output_type": "stream",
          "name": "stdout",
          "text": [
            "Test Log Loss:  0.6\n"
          ]
        }
      ]
    },
    {
      "cell_type": "code",
      "source": [
        "# Log loss for test set\n",
        "test_loss = log_loss(y_train, y_train_prob)\n",
        "print(\"Train Log Loss: \", train_loss)"
      ],
      "metadata": {
        "colab": {
          "base_uri": "https://localhost:8080/"
        },
        "id": "fQrv3v4dmSOE",
        "outputId": "81017493-7631-4426-8233-0d8ce4ecbe6f"
      },
      "execution_count": null,
      "outputs": [
        {
          "output_type": "stream",
          "name": "stdout",
          "text": [
            "Train Log Loss:  0.5\n"
          ]
        }
      ]
    }
  ],
  "metadata": {
    "colab": {
      "provenance": [],
      "include_colab_link": true
    },
    "kernelspec": {
      "display_name": "Python 3",
      "name": "python3"
    },
    "language_info": {
      "name": "python"
    }
  },
  "nbformat": 4,
  "nbformat_minor": 0
}